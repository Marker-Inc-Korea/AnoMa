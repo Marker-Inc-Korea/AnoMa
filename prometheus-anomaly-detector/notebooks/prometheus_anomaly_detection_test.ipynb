{
 "cells": [
  {
   "cell_type": "markdown",
   "metadata": {},
   "source": [
    "### Test Driven Data Science for Prometheus Anomaly Detector\n",
    "\n",
    "The below notebook represents an initial prototype for testing the performance of new models on historical data prior to live deployment.\n",
    "\n",
    "As the aim of this project is to serve as a framework to deploy metric prediction models to detect anomalies in prometheus metrics, we would like to develop a 'testing mode' for the anomaly detector so that we can clearly evaluate the performance of our models prior to deploying them.\n",
    "\n",
    "For this initial prototype we will implement a somewhat naive approach and auto-label all of the data as anomalous/not anomalous based on a static threshold set by the user. Although this method is inherently problematic (seasonality will be ignored, for example) we are aware of its limitations and it will serve only as a guide. If we had an error-free method of auto-labeling anomalies, we would have our ML model and no more testing would be required. That said, this prototype could be easily modified with a more sophisticated auto-labeling method.\n",
    "\n",
    "Once the data has been naively auto-labeled, we simulate 24 hours of running the tool, where every hour we train a prophet model on the last week of data and forecast out one hour. We compute the true positive rate for each hour segment, as well as for the entire 24 hour period between our auto-labeled \"ground truth\" anomalies and the anomalies found by the detector (i.e., if they exceed the upper or lower bounds of the prediction). That said, the inclusion of additional performance metrics, more sophisticated auto-labeling procedures or manual anomaly labeling may improve this testers ability to evaluate models. This is an initial POC.       \n",
    "\n",
    "This test will require the following configurations:\n",
    "\n",
    " - query range\n",
    " - training window\n",
    " - metric name\n",
    " - label_config\n",
    " - prom url \n",
    " - prom token\n",
    " - threshold\n",
    "\n",
    "\n",
    "Finally, the user of this test should already have zeroed in on the specific anomalous time frame and metric value they want to test and can provide the entire label_config.\n",
    "\n",
    " "
   ]
  },
  {
   "cell_type": "code",
   "execution_count": 1,
   "metadata": {},
   "outputs": [],
   "source": [
    "# !pip install https://github.com/4n4nd/prometheus-api-client-python/zipball/v0.0.2"
   ]
  },
  {
   "cell_type": "code",
   "execution_count": 2,
   "metadata": {},
   "outputs": [],
   "source": [
    "import os \n",
    "import numpy as np\n",
    "import pandas as pd\n",
    "import prometheus_api_client as prom_api\n",
    "from prometheus_api_client import Metric, MetricsList, PrometheusConnect\n",
    "import matplotlib.pyplot as plt \n",
    "import time\n",
    "from datetime import datetime\n",
    "from fbprophet import Prophet\n",
    "import warnings\n",
    "warnings.filterwarnings('ignore')\n",
    "\n",
    "%matplotlib inline\n",
    "%load_ext dotenv\n",
    "%dotenv"
   ]
  },
  {
   "cell_type": "code",
   "execution_count": 3,
   "metadata": {},
   "outputs": [],
   "source": [
    "# This will require the following configurations.\n",
    "\n",
    "# - query range\n",
    "# - training window\n",
    "# - metric name\n",
    "# - label_config\n",
    "# - prom url \n",
    "# - prom token\n",
    "# - threshold\n",
    "\n",
    "# The user of this test should already have zeroed in on the specific timeframe and metric value they want to test\n",
    "# and can provide the entire label_config.\n",
    "\n",
    "\n",
    "def prometheus_anoamly_test(start_time, end_time, training_window, metric_name, \n",
    "                            label_config, prom_url, prom_token, threshold):\n",
    "    \n",
    "\n",
    "    # Read data into memory and convert to a Metric list Object\n",
    "    \n",
    "    prom = prom_api.prometheus_connect.PrometheusConnect(url=prom_url, headers={\"Authorization\": \"bearer {}\".format(prom_token)}, \n",
    "                                                     disable_ssl=True)\n",
    "    \n",
    "    metric_data = prom.get_metric_range_data(metric_name=metric_name,\n",
    "                                         start_time=start_time,\n",
    "                                         end_time=end_time,\n",
    "                                         label_config=label_config)\n",
    "    \n",
    "    metrics = MetricsList(metric_data)\n",
    "    m = metrics[0]\n",
    "    \n",
    "    num_true_positive = 0\n",
    "    num_groud_truth = 0\n",
    "    \n",
    "    # simulate 24 hours of training and forecasting out one hour to test model.  \n",
    "    for i in range(24):\n",
    "        \n",
    "        # create new df with labels on a metric signal based on simple threshold method. \n",
    "        labeled_metric = simple_metric_labeler(m.metric_values, threshold)\n",
    "        _ , ground_truth = timeseries_train_test_split(labeled_metric, training_window, i)\n",
    "\n",
    "        # Split data into train test\n",
    "\n",
    "        train, test = timeseries_train_test_split(m.metric_values, training_window, i)\n",
    "\n",
    "        # Train model based on training window\n",
    "\n",
    "        model = train_prophet(train)\n",
    "\n",
    "        # Forecast 1 hour into the future\n",
    "\n",
    "        forecast = predict_prophet(model, test)\n",
    "        \n",
    "        # Count number of anomalies detected by forecast\n",
    "\n",
    "        forecasted_anomalies = forecast_anomalies(forecast, test)\n",
    "\n",
    "        # Compute true positive rate and report ground truth and prediction values\n",
    "        \n",
    "        print(\"ground truth anomlies\", sum(ground_truth.label.values))\n",
    "        print(\"forecast anomalies\", sum(forecasted_anomalies.label.values))\n",
    "        print(\"number of data points\", len(test.label.values))\n",
    "        \n",
    "        true_postive_rate = compute_true_positive_rate(forecasted_anomalies,ground_truth)\n",
    "        print(\"true positive rate\", true_postive_rate)\n",
    "        \n",
    "        num_true_positive += count_true_positives(forecasted_anomalies,ground_truth)\n",
    "        num_groud_truth += sum(ground_truth.label.values)\n",
    "        \n",
    "             \n",
    "    # compute and return the overall true positive rate \n",
    "    total_true_positive_rate = num_true_positive/num_groud_truth\n",
    "    \n",
    "    return total_true_positive_rate\n",
    "\n",
    "\n",
    "def simple_metric_labeler(signal_df, threshold):\n",
    "    labeld_df = signal_df\n",
    "    label_column = (signal_df[\"y\"] >= threshold).values.astype(int) \n",
    "    labeld_df[\"label\"] = label_column\n",
    "    return labeld_df\n",
    "\n",
    "def train_prophet(data):\n",
    "    model = Prophet()\n",
    "    model.fit(data)\n",
    "    return model\n",
    "\n",
    "def predict_prophet(model, future_time):\n",
    "    forecast = model.predict(future_time)\n",
    "    return forecast[['ds', 'yhat', 'yhat_lower', 'yhat_upper']]\n",
    "\n",
    "def timeseries_train_test_split(df, training_window, hour):\n",
    "    \n",
    "    earliest_time = df[\"ds\"].iloc[0] + pd.Timedelta(hour * 3600, 'sec')\n",
    "    seconds_training_window = training_window * 604800 # convert to seconds from weeks\n",
    "    training_window_end = earliest_time + pd.Timedelta(seconds_training_window, 'sec')\n",
    "    test_window_end = training_window_end + pd.Timedelta(3600, 'sec') # add an hour imeseries_train_test_split(df, t\n",
    "    \n",
    "    train = df[df['ds'] <= training_window_end]\n",
    "    test = df[df['ds'] > training_window_end]\n",
    "    test = test[test['ds'] < test_window_end]\n",
    "    \n",
    "    print(training_window_end, \"training window end\")\n",
    "    print(test_window_end, \"test window end\")\n",
    "    \n",
    "    return train, test\n",
    "\n",
    "def forecast_anomalies(forecast_df, signal_df):\n",
    "    detections = []\n",
    "    for y, yhat_upper, yhat_lower in zip(signal_df.y,forecast_df.yhat_upper, forecast_df.yhat_lower):\n",
    "        \n",
    "        if y <= yhat_lower:\n",
    "            detections.append(1)\n",
    "        \n",
    "        elif y >= yhat_upper:\n",
    "            detections.append(1)\n",
    "        \n",
    "        else:\n",
    "            detections.append(0)\n",
    "    \n",
    "    detected_df = forecast_df\n",
    "    detected_df[\"label\"] = detections\n",
    "    return detected_df    \n",
    "\n",
    "def compute_true_positive_rate(forecasted_anomalies, labeled_anomalies):\n",
    "    \n",
    "    num_true_positive = count_true_positives(forecasted_anomalies, labeled_anomalies)\n",
    "    true_postive_rate = num_true_positive/sum(labeled_anomalies.label.values)\n",
    "    \n",
    "    return true_postive_rate\n",
    "\n",
    "def count_true_positives(forecast_anomalies, labeled_anomalies):\n",
    "        \n",
    "        num_true_positive = sum((forecast_anomalies.label.values == 1) & \n",
    "                            (labeled_anomalies.label.values == 1))\n",
    "        \n",
    "        return num_true_positive\n",
    "\n",
    "    "
   ]
  },
  {
   "cell_type": "code",
   "execution_count": 4,
   "metadata": {},
   "outputs": [],
   "source": [
    "# example configurations\n",
    "metric_name=\"name\"\n",
    "start_time = datetime.fromtimestamp(1000000000)\n",
    "end_time = datetime.fromtimestamp(1000000001)\n",
    "label_config={}\n",
    "\n",
    "prom_url = 'prometheus route'\n",
    "prom_token = 'prometheus access token'\n",
    "training_window='integer representing weeks'\n",
    "threshold = 'float'"
   ]
  },
  {
   "cell_type": "code",
   "execution_count": 6,
   "metadata": {
    "collapsed": true
   },
   "outputs": [
    {
     "data": {
      "image/png": "[encoded data removed]",
      "text/plain": [
       "<Figure size 1440x720 with 1 Axes>"
      ]
     },
     "metadata": {
      "needs_background": "light"
     },
     "output_type": "display_data"
    }
   ],
   "source": [
    "prom = prom_api.prometheus_connect.PrometheusConnect(url=prom_url, headers={\"Authorization\": \"bearer {}\".format(prom_token)}, \n",
    "                                                 disable_ssl=True)\n",
    "\n",
    "metric_data = prom.get_metric_range_data(metric_name=metric_name,\n",
    "                                     start_time=start_time,\n",
    "                                     end_time=end_time,\n",
    "                                     label_config=label_config)\n",
    "\n",
    "metrics = MetricsList(metric_data)\n",
    "m = metrics[0]\n",
    "\n",
    "plt.figure(figsize=(20,10))\n",
    "plt.plot(m.metric_values.ds, m.metric_values.y)\n",
    "plt.plot(m.metric_values.ds, np.ones_like(m.metric_values.y)*0.007, c=\"red\")\n",
    "plt.legend([\"metric_date\",\"threshold\"])\n",
    "plt.show()"
   ]
  },
  {
   "cell_type": "code",
   "execution_count": 7,
   "metadata": {},
   "outputs": [
    {
     "name": "stderr",
     "output_type": "stream",
     "text": [
      "INFO:fbprophet.forecaster:Disabling yearly seasonality. Run prophet with yearly_seasonality=True to override this.\n",
      "INFO:fbprophet.forecaster:Disabling weekly seasonality. Run prophet with weekly_seasonality=True to override this.\n"
     ]
    },
    {
     "name": "stdout",
     "output_type": "stream",
     "text": [
      "2019-07-09 23:47:00.825000048 training window end\n",
      "2019-07-10 00:47:00.825000048 test window end\n",
      "2019-07-09 23:47:00.825000048 training window end\n",
      "2019-07-10 00:47:00.825000048 test window end\n"
     ]
    },
    {
     "name": "stderr",
     "output_type": "stream",
     "text": [
      "INFO:fbprophet.forecaster:Disabling yearly seasonality. Run prophet with yearly_seasonality=True to override this.\n",
      "INFO:fbprophet.forecaster:Disabling weekly seasonality. Run prophet with weekly_seasonality=True to override this.\n"
     ]
    },
    {
     "name": "stdout",
     "output_type": "stream",
     "text": [
      "ground truth anomlies 13\n",
      "forecast anomalies 48\n",
      "number of data points 59\n",
      "true positive rate 1.0\n",
      "2019-07-10 00:47:00.825000048 training window end\n",
      "2019-07-10 01:47:00.825000048 test window end\n",
      "2019-07-10 00:47:00.825000048 training window end\n",
      "2019-07-10 01:47:00.825000048 test window end\n"
     ]
    },
    {
     "name": "stderr",
     "output_type": "stream",
     "text": [
      "INFO:fbprophet.forecaster:Disabling yearly seasonality. Run prophet with yearly_seasonality=True to override this.\n",
      "INFO:fbprophet.forecaster:Disabling weekly seasonality. Run prophet with weekly_seasonality=True to override this.\n"
     ]
    },
    {
     "name": "stdout",
     "output_type": "stream",
     "text": [
      "ground truth anomlies 8\n",
      "forecast anomalies 47\n",
      "number of data points 59\n",
      "true positive rate 1.0\n",
      "2019-07-10 01:47:00.825000048 training window end\n",
      "2019-07-10 02:47:00.825000048 test window end\n",
      "2019-07-10 01:47:00.825000048 training window end\n",
      "2019-07-10 02:47:00.825000048 test window end\n"
     ]
    },
    {
     "name": "stderr",
     "output_type": "stream",
     "text": [
      "INFO:fbprophet.forecaster:Disabling yearly seasonality. Run prophet with yearly_seasonality=True to override this.\n",
      "INFO:fbprophet.forecaster:Disabling weekly seasonality. Run prophet with weekly_seasonality=True to override this.\n"
     ]
    },
    {
     "name": "stdout",
     "output_type": "stream",
     "text": [
      "ground truth anomlies 21\n",
      "forecast anomalies 49\n",
      "number of data points 59\n",
      "true positive rate 1.0\n",
      "2019-07-10 02:47:00.825000048 training window end\n",
      "2019-07-10 03:47:00.825000048 test window end\n",
      "2019-07-10 02:47:00.825000048 training window end\n",
      "2019-07-10 03:47:00.825000048 test window end\n"
     ]
    },
    {
     "name": "stderr",
     "output_type": "stream",
     "text": [
      "INFO:fbprophet.forecaster:Disabling yearly seasonality. Run prophet with yearly_seasonality=True to override this.\n",
      "INFO:fbprophet.forecaster:Disabling weekly seasonality. Run prophet with weekly_seasonality=True to override this.\n"
     ]
    },
    {
     "name": "stdout",
     "output_type": "stream",
     "text": [
      "ground truth anomlies 33\n",
      "forecast anomalies 53\n",
      "number of data points 59\n",
      "true positive rate 1.0\n",
      "2019-07-10 03:47:00.825000048 training window end\n",
      "2019-07-10 04:47:00.825000048 test window end\n",
      "2019-07-10 03:47:00.825000048 training window end\n",
      "2019-07-10 04:47:00.825000048 test window end\n"
     ]
    },
    {
     "name": "stderr",
     "output_type": "stream",
     "text": [
      "INFO:fbprophet.forecaster:Disabling yearly seasonality. Run prophet with yearly_seasonality=True to override this.\n",
      "INFO:fbprophet.forecaster:Disabling weekly seasonality. Run prophet with weekly_seasonality=True to override this.\n"
     ]
    },
    {
     "name": "stdout",
     "output_type": "stream",
     "text": [
      "ground truth anomlies 30\n",
      "forecast anomalies 52\n",
      "number of data points 59\n",
      "true positive rate 1.0\n",
      "2019-07-10 04:47:00.825000048 training window end\n",
      "2019-07-10 05:47:00.825000048 test window end\n",
      "2019-07-10 04:47:00.825000048 training window end\n",
      "2019-07-10 05:47:00.825000048 test window end\n"
     ]
    },
    {
     "name": "stderr",
     "output_type": "stream",
     "text": [
      "INFO:fbprophet.forecaster:Disabling yearly seasonality. Run prophet with yearly_seasonality=True to override this.\n",
      "INFO:fbprophet.forecaster:Disabling weekly seasonality. Run prophet with weekly_seasonality=True to override this.\n"
     ]
    },
    {
     "name": "stdout",
     "output_type": "stream",
     "text": [
      "ground truth anomlies 29\n",
      "forecast anomalies 44\n",
      "number of data points 59\n",
      "true positive rate 1.0\n",
      "2019-07-10 05:47:00.825000048 training window end\n",
      "2019-07-10 06:47:00.825000048 test window end\n",
      "2019-07-10 05:47:00.825000048 training window end\n",
      "2019-07-10 06:47:00.825000048 test window end\n"
     ]
    },
    {
     "name": "stderr",
     "output_type": "stream",
     "text": [
      "INFO:fbprophet.forecaster:Disabling yearly seasonality. Run prophet with yearly_seasonality=True to override this.\n",
      "INFO:fbprophet.forecaster:Disabling weekly seasonality. Run prophet with weekly_seasonality=True to override this.\n"
     ]
    },
    {
     "name": "stdout",
     "output_type": "stream",
     "text": [
      "ground truth anomlies 23\n",
      "forecast anomalies 47\n",
      "number of data points 59\n",
      "true positive rate 1.0\n",
      "2019-07-10 06:47:00.825000048 training window end\n",
      "2019-07-10 07:47:00.825000048 test window end\n",
      "2019-07-10 06:47:00.825000048 training window end\n",
      "2019-07-10 07:47:00.825000048 test window end\n"
     ]
    },
    {
     "name": "stderr",
     "output_type": "stream",
     "text": [
      "INFO:fbprophet.forecaster:Disabling yearly seasonality. Run prophet with yearly_seasonality=True to override this.\n",
      "INFO:fbprophet.forecaster:Disabling weekly seasonality. Run prophet with weekly_seasonality=True to override this.\n"
     ]
    },
    {
     "name": "stdout",
     "output_type": "stream",
     "text": [
      "ground truth anomlies 31\n",
      "forecast anomalies 46\n",
      "number of data points 59\n",
      "true positive rate 1.0\n",
      "2019-07-10 07:47:00.825000048 training window end\n",
      "2019-07-10 08:47:00.825000048 test window end\n",
      "2019-07-10 07:47:00.825000048 training window end\n",
      "2019-07-10 08:47:00.825000048 test window end\n"
     ]
    },
    {
     "name": "stderr",
     "output_type": "stream",
     "text": [
      "INFO:fbprophet.forecaster:Disabling yearly seasonality. Run prophet with yearly_seasonality=True to override this.\n",
      "INFO:fbprophet.forecaster:Disabling weekly seasonality. Run prophet with weekly_seasonality=True to override this.\n"
     ]
    },
    {
     "name": "stdout",
     "output_type": "stream",
     "text": [
      "ground truth anomlies 25\n",
      "forecast anomalies 41\n",
      "number of data points 59\n",
      "true positive rate 1.0\n",
      "2019-07-10 08:47:00.825000048 training window end\n",
      "2019-07-10 09:47:00.825000048 test window end\n",
      "2019-07-10 08:47:00.825000048 training window end\n",
      "2019-07-10 09:47:00.825000048 test window end\n"
     ]
    },
    {
     "name": "stderr",
     "output_type": "stream",
     "text": [
      "INFO:fbprophet.forecaster:Disabling yearly seasonality. Run prophet with yearly_seasonality=True to override this.\n",
      "INFO:fbprophet.forecaster:Disabling weekly seasonality. Run prophet with weekly_seasonality=True to override this.\n"
     ]
    },
    {
     "name": "stdout",
     "output_type": "stream",
     "text": [
      "ground truth anomlies 16\n",
      "forecast anomalies 34\n",
      "number of data points 59\n",
      "true positive rate 0.9375\n",
      "2019-07-10 09:47:00.825000048 training window end\n",
      "2019-07-10 10:47:00.825000048 test window end\n",
      "2019-07-10 09:47:00.825000048 training window end\n",
      "2019-07-10 10:47:00.825000048 test window end\n"
     ]
    },
    {
     "name": "stderr",
     "output_type": "stream",
     "text": [
      "INFO:fbprophet.forecaster:Disabling yearly seasonality. Run prophet with yearly_seasonality=True to override this.\n",
      "INFO:fbprophet.forecaster:Disabling weekly seasonality. Run prophet with weekly_seasonality=True to override this.\n"
     ]
    },
    {
     "name": "stdout",
     "output_type": "stream",
     "text": [
      "ground truth anomlies 26\n",
      "forecast anomalies 37\n",
      "number of data points 59\n",
      "true positive rate 0.8461538461538461\n",
      "2019-07-10 10:47:00.825000048 training window end\n",
      "2019-07-10 11:47:00.825000048 test window end\n",
      "2019-07-10 10:47:00.825000048 training window end\n",
      "2019-07-10 11:47:00.825000048 test window end\n"
     ]
    },
    {
     "name": "stderr",
     "output_type": "stream",
     "text": [
      "INFO:fbprophet.forecaster:Disabling yearly seasonality. Run prophet with yearly_seasonality=True to override this.\n",
      "INFO:fbprophet.forecaster:Disabling weekly seasonality. Run prophet with weekly_seasonality=True to override this.\n"
     ]
    },
    {
     "name": "stdout",
     "output_type": "stream",
     "text": [
      "ground truth anomlies 23\n",
      "forecast anomalies 45\n",
      "number of data points 59\n",
      "true positive rate 0.8695652173913043\n",
      "2019-07-10 11:47:00.825000048 training window end\n",
      "2019-07-10 12:47:00.825000048 test window end\n",
      "2019-07-10 11:47:00.825000048 training window end\n",
      "2019-07-10 12:47:00.825000048 test window end\n"
     ]
    },
    {
     "name": "stderr",
     "output_type": "stream",
     "text": [
      "INFO:fbprophet.forecaster:Disabling yearly seasonality. Run prophet with yearly_seasonality=True to override this.\n",
      "INFO:fbprophet.forecaster:Disabling weekly seasonality. Run prophet with weekly_seasonality=True to override this.\n"
     ]
    },
    {
     "name": "stdout",
     "output_type": "stream",
     "text": [
      "ground truth anomlies 7\n",
      "forecast anomalies 49\n",
      "number of data points 59\n",
      "true positive rate 1.0\n",
      "2019-07-10 12:47:00.825000048 training window end\n",
      "2019-07-10 13:47:00.825000048 test window end\n",
      "2019-07-10 12:47:00.825000048 training window end\n",
      "2019-07-10 13:47:00.825000048 test window end\n"
     ]
    },
    {
     "name": "stderr",
     "output_type": "stream",
     "text": [
      "INFO:fbprophet.forecaster:Disabling yearly seasonality. Run prophet with yearly_seasonality=True to override this.\n",
      "INFO:fbprophet.forecaster:Disabling weekly seasonality. Run prophet with weekly_seasonality=True to override this.\n"
     ]
    },
    {
     "name": "stdout",
     "output_type": "stream",
     "text": [
      "ground truth anomlies 0\n",
      "forecast anomalies 59\n",
      "number of data points 59\n",
      "true positive rate nan\n",
      "2019-07-10 13:47:00.825000048 training window end\n",
      "2019-07-10 14:47:00.825000048 test window end\n",
      "2019-07-10 13:47:00.825000048 training window end\n",
      "2019-07-10 14:47:00.825000048 test window end\n"
     ]
    },
    {
     "name": "stderr",
     "output_type": "stream",
     "text": [
      "INFO:fbprophet.forecaster:Disabling yearly seasonality. Run prophet with yearly_seasonality=True to override this.\n",
      "INFO:fbprophet.forecaster:Disabling weekly seasonality. Run prophet with weekly_seasonality=True to override this.\n"
     ]
    },
    {
     "name": "stdout",
     "output_type": "stream",
     "text": [
      "ground truth anomlies 0\n",
      "forecast anomalies 59\n",
      "number of data points 59\n",
      "true positive rate nan\n",
      "2019-07-10 14:47:00.825000048 training window end\n",
      "2019-07-10 15:47:00.825000048 test window end\n",
      "2019-07-10 14:47:00.825000048 training window end\n",
      "2019-07-10 15:47:00.825000048 test window end\n"
     ]
    },
    {
     "name": "stderr",
     "output_type": "stream",
     "text": [
      "INFO:fbprophet.forecaster:Disabling yearly seasonality. Run prophet with yearly_seasonality=True to override this.\n",
      "INFO:fbprophet.forecaster:Disabling weekly seasonality. Run prophet with weekly_seasonality=True to override this.\n"
     ]
    },
    {
     "name": "stdout",
     "output_type": "stream",
     "text": [
      "ground truth anomlies 0\n",
      "forecast anomalies 59\n",
      "number of data points 59\n",
      "true positive rate nan\n",
      "2019-07-10 15:47:00.825000048 training window end\n",
      "2019-07-10 16:47:00.825000048 test window end\n",
      "2019-07-10 15:47:00.825000048 training window end\n",
      "2019-07-10 16:47:00.825000048 test window end\n"
     ]
    },
    {
     "name": "stderr",
     "output_type": "stream",
     "text": [
      "INFO:fbprophet.forecaster:Disabling yearly seasonality. Run prophet with yearly_seasonality=True to override this.\n",
      "INFO:fbprophet.forecaster:Disabling weekly seasonality. Run prophet with weekly_seasonality=True to override this.\n"
     ]
    },
    {
     "name": "stdout",
     "output_type": "stream",
     "text": [
      "ground truth anomlies 0\n",
      "forecast anomalies 59\n",
      "number of data points 59\n",
      "true positive rate nan\n",
      "2019-07-10 16:47:00.825000048 training window end\n",
      "2019-07-10 17:47:00.825000048 test window end\n",
      "2019-07-10 16:47:00.825000048 training window end\n",
      "2019-07-10 17:47:00.825000048 test window end\n"
     ]
    },
    {
     "name": "stderr",
     "output_type": "stream",
     "text": [
      "INFO:fbprophet.forecaster:Disabling yearly seasonality. Run prophet with yearly_seasonality=True to override this.\n",
      "INFO:fbprophet.forecaster:Disabling weekly seasonality. Run prophet with weekly_seasonality=True to override this.\n"
     ]
    },
    {
     "name": "stdout",
     "output_type": "stream",
     "text": [
      "ground truth anomlies 0\n",
      "forecast anomalies 59\n",
      "number of data points 59\n",
      "true positive rate nan\n",
      "2019-07-10 17:47:00.825000048 training window end\n",
      "2019-07-10 18:47:00.825000048 test window end\n",
      "2019-07-10 17:47:00.825000048 training window end\n",
      "2019-07-10 18:47:00.825000048 test window end\n"
     ]
    },
    {
     "name": "stderr",
     "output_type": "stream",
     "text": [
      "INFO:fbprophet.forecaster:Disabling yearly seasonality. Run prophet with yearly_seasonality=True to override this.\n",
      "INFO:fbprophet.forecaster:Disabling weekly seasonality. Run prophet with weekly_seasonality=True to override this.\n"
     ]
    },
    {
     "name": "stdout",
     "output_type": "stream",
     "text": [
      "ground truth anomlies 0\n",
      "forecast anomalies 59\n",
      "number of data points 59\n",
      "true positive rate nan\n",
      "2019-07-10 18:47:00.825000048 training window end\n",
      "2019-07-10 19:47:00.825000048 test window end\n",
      "2019-07-10 18:47:00.825000048 training window end\n",
      "2019-07-10 19:47:00.825000048 test window end\n"
     ]
    },
    {
     "name": "stderr",
     "output_type": "stream",
     "text": [
      "INFO:fbprophet.forecaster:Disabling yearly seasonality. Run prophet with yearly_seasonality=True to override this.\n",
      "INFO:fbprophet.forecaster:Disabling weekly seasonality. Run prophet with weekly_seasonality=True to override this.\n"
     ]
    },
    {
     "name": "stdout",
     "output_type": "stream",
     "text": [
      "ground truth anomlies 0\n",
      "forecast anomalies 59\n",
      "number of data points 59\n",
      "true positive rate nan\n",
      "2019-07-10 19:47:00.825000048 training window end\n",
      "2019-07-10 20:47:00.825000048 test window end\n",
      "2019-07-10 19:47:00.825000048 training window end\n",
      "2019-07-10 20:47:00.825000048 test window end\n"
     ]
    },
    {
     "name": "stderr",
     "output_type": "stream",
     "text": [
      "INFO:fbprophet.forecaster:Disabling yearly seasonality. Run prophet with yearly_seasonality=True to override this.\n",
      "INFO:fbprophet.forecaster:Disabling weekly seasonality. Run prophet with weekly_seasonality=True to override this.\n"
     ]
    },
    {
     "name": "stdout",
     "output_type": "stream",
     "text": [
      "ground truth anomlies 0\n",
      "forecast anomalies 59\n",
      "number of data points 59\n",
      "true positive rate nan\n",
      "2019-07-10 20:47:00.825000048 training window end\n",
      "2019-07-10 21:47:00.825000048 test window end\n",
      "2019-07-10 20:47:00.825000048 training window end\n",
      "2019-07-10 21:47:00.825000048 test window end\n"
     ]
    },
    {
     "name": "stderr",
     "output_type": "stream",
     "text": [
      "INFO:fbprophet.forecaster:Disabling yearly seasonality. Run prophet with yearly_seasonality=True to override this.\n",
      "INFO:fbprophet.forecaster:Disabling weekly seasonality. Run prophet with weekly_seasonality=True to override this.\n"
     ]
    },
    {
     "name": "stdout",
     "output_type": "stream",
     "text": [
      "ground truth anomlies 8\n",
      "forecast anomalies 52\n",
      "number of data points 59\n",
      "true positive rate 1.0\n",
      "2019-07-10 21:47:00.825000048 training window end\n",
      "2019-07-10 22:47:00.825000048 test window end\n",
      "2019-07-10 21:47:00.825000048 training window end\n",
      "2019-07-10 22:47:00.825000048 test window end\n"
     ]
    },
    {
     "name": "stderr",
     "output_type": "stream",
     "text": [
      "INFO:fbprophet.forecaster:Disabling yearly seasonality. Run prophet with yearly_seasonality=True to override this.\n",
      "INFO:fbprophet.forecaster:Disabling weekly seasonality. Run prophet with weekly_seasonality=True to override this.\n"
     ]
    },
    {
     "name": "stdout",
     "output_type": "stream",
     "text": [
      "ground truth anomlies 31\n",
      "forecast anomalies 44\n",
      "number of data points 59\n",
      "true positive rate 1.0\n",
      "2019-07-10 22:47:00.825000048 training window end\n",
      "2019-07-10 23:47:00.825000048 test window end\n",
      "2019-07-10 22:47:00.825000048 training window end\n",
      "2019-07-10 23:47:00.825000048 test window end\n",
      "ground truth anomlies 36\n",
      "forecast anomalies 42\n",
      "number of data points 59\n",
      "true positive rate 0.9444444444444444\n"
     ]
    },
    {
     "data": {
      "text/plain": [
       "0.9722222222222222"
      ]
     },
     "execution_count": 7,
     "metadata": {},
     "output_type": "execute_result"
    }
   ],
   "source": [
    "prometheus_anoamly_test(start_time, end_time,training_window, metric_name, label_config, prom_url, prom_token, threshold)"
   ]
  },
  {
   "cell_type": "markdown",
   "metadata": {},
   "source": [
    "The overall true positive rate for this 24 hour period (between 2019-07-09 23:47:00 and 2019-07-10 23:47:00) was 0.97. Meaning that we correctly identified 97% of the anomalies present in the dataset. \n",
    "\n",
    "Of the known anomalies in our dataset, almost all were correctly identified. However, we can also see that this model, making forecasts on the anomalous 07/10 portion of the above time series(or the last eighth of our data), is skewed heavily towards over-reporting anomalies, and in many cases generated a relatively high false positive rate. In general, this is something that we will have to take into consideration, and future iterations of this test can include a false positive rate metric as well. \n",
    "\n",
    "That said, I think the above example shows that this test provides a good method for indicating how well a model is at identifying anomalies in simple prometheus metrics.  "
   ]
  }
 ],
 "metadata": {
  "kernelspec": {
   "display_name": "Python 3",
   "language": "python",
   "name": "python3"
  },
  "language_info": {
   "codemirror_mode": {
    "name": "ipython",
    "version": 3
   },
   "file_extension": ".py",
   "mimetype": "text/x-python",
   "name": "python",
   "nbconvert_exporter": "python",
   "pygments_lexer": "ipython3",
   "version": "3.6.8"
  },
  "varInspector": {
   "cols": {
    "lenName": 16,
    "lenType": 16,
    "lenVar": 40
   },
   "kernels_config": {
    "python": {
     "delete_cmd_postfix": "",
     "delete_cmd_prefix": "del ",
     "library": "var_list.py",
     "varRefreshCmd": "print(var_dic_list())"
    },
    "r": {
     "delete_cmd_postfix": ") ",
     "delete_cmd_prefix": "rm(",
     "library": "var_list.r",
     "varRefreshCmd": "cat(var_dic_list()) "
    }
   },
   "types_to_exclude": [
    "module",
    "function",
    "builtin_function_or_method",
    "instance",
    "_Feature"
   ],
   "window_display": false
  }
 },
 "nbformat": 4,
 "nbformat_minor": 2
}
