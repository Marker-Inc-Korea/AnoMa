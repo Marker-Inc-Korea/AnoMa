{
  "nbformat": 4,
  "nbformat_minor": 0,
  "metadata": {
    "accelerator": "GPU",
    "colab": {
      "name": "prometheus_anomaly_detection_lstm_test.ipynb.ipynb",
      "provenance": [],
      "collapsed_sections": [],
      "toc_visible": true
    },
    "kernelspec": {
      "display_name": "Python 3",
      "language": "python",
      "name": "python3"
    },
    "language_info": {
      "codemirror_mode": {
        "name": "ipython",
        "version": 3
      },
      "file_extension": ".py",
      "mimetype": "text/x-python",
      "name": "python",
      "nbconvert_exporter": "python",
      "pygments_lexer": "ipython3",
      "version": "3.6.3"
    }
  },
  "cells": [
    {
      "cell_type": "markdown",
      "metadata": {
        "id": "9n4pIu0VMsja",
        "colab_type": "text"
      },
      "source": [
        "\n",
        "# LSTM Model for Prometheus Anomaly Detection\n",
        "The final polished implementation of the LSTM (Long Short Term Memory) model for time series forecasting of Prometheus metrics.\n",
        "\n",
        "This notebook contains the following functionalities:\n",
        "\n",
        "## Data Pre-Processing\n",
        "\n",
        "*   Load real metric data from prometheus using prometheus API client\n",
        "*   Fetch metric timestamp and corresponding metric value from the data set\n",
        "*   Convert the dataframe into timeseries format\n",
        "*   Rescale time-series between 0-1\n",
        "*   Roll the data using number_of_features to create features and labels\n",
        "*   Change labels to the difference between the current value and the previous value\n",
        "\n",
        "\n",
        "\n",
        "## Data Modelling\n",
        "\n",
        "*   Train the LSTM model with the required parameters\n",
        "*   Automate tuning the LSTM architecture \n",
        "*   Forecast the predictions on the test data set\n",
        "*   Return predictions to their real valuesby adding the previous value to the prediction\n",
        "*   Evaluate the predictions for detecting anomalies"
      ]
    },
    {
      "cell_type": "markdown",
      "metadata": {
        "id": "kdoI2VnVMjsA",
        "colab_type": "text"
      },
      "source": [
        "### Model Dependancies"
      ]
    },
    {
      "cell_type": "markdown",
      "metadata": {
        "id": "vJBay5TcOn4R",
        "colab_type": "text"
      },
      "source": [
        "#### Modules"
      ]
    },
    {
      "cell_type": "code",
      "metadata": {
        "colab_type": "code",
        "id": "05WAmt8eLs6S",
        "colab": {
          "base_uri": "https://localhost:8080/",
          "height": 34
        },
        "outputId": "af1d7cfc-7d88-4427-928e-698b36b74eeb"
      },
      "source": [
        "!pip install --upgrade pip\n",
        "!pip install uuid > /dev/null\n",
        "!pip install --upgrade setuptools > /dev/null\n",
        "!pip install --upgrade scipy numba matplotlib pandas > /dev/null\n",
        "!pip install prometheus-api-client mlflow keras tensorflow > /dev/null\n",
        "!pip install tensorflow==1.14 > /dev/null"
      ],
      "execution_count": 1,
      "outputs": [
        {
          "output_type": "stream",
          "text": [
            "Requirement already up-to-date: pip in /usr/local/lib/python3.6/dist-packages (20.1)\n"
          ],
          "name": "stdout"
        }
      ]
    },
    {
      "cell_type": "markdown",
      "metadata": {
        "id": "dus3aWIoOjFJ",
        "colab_type": "text"
      },
      "source": [
        "#### Imports"
      ]
    },
    {
      "cell_type": "code",
      "metadata": {
        "id": "6ErfEmjlLHhz",
        "colab_type": "code",
        "colab": {}
      },
      "source": [
        "# Important Imports\n",
        "from prometheus_api_client import Metric, MetricsList, PrometheusConnect\n",
        "from prometheus_api_client.utils import parse_datetime, parse_timedelta\n",
        "from sklearn.preprocessing import MinMaxScaler\n",
        "from matplotlib import pyplot as plt\n",
        "import pandas as pd\n",
        "import numpy as np\n",
        "from keras.models import Sequential\n",
        "from keras.layers import Dense, LSTM\n",
        "from sklearn.preprocessing import MinMaxScaler\n",
        "import warnings\n",
        "warnings.filterwarnings('ignore')"
      ],
      "execution_count": 0,
      "outputs": []
    },
    {
      "cell_type": "markdown",
      "metadata": {
        "id": "sXXvXLPILeu4",
        "colab_type": "text"
      },
      "source": [
        "### Useful Functions"
      ]
    },
    {
      "cell_type": "code",
      "metadata": {
        "id": "4xhZxJhZLS7M",
        "colab_type": "code",
        "colab": {}
      },
      "source": [
        "def prepare_data(data, number_of_features):\n",
        "    train_x = np.array(data[:, 1])[np.newaxis, :].T\n",
        "\n",
        "    for i in range(number_of_features):\n",
        "        train_x = np.concatenate((train_x, np.roll(data[:, 1], -i)[np.newaxis, :].T), axis=1)\n",
        "\n",
        "    train_x = train_x[:train_x.shape[0] - number_of_features, :number_of_features]\n",
        "\n",
        "    train_yt = np.roll(data[:, 1], -number_of_features+1)\n",
        "    train_y = np.roll(data[:, 1], -number_of_features)\n",
        "    train_y = train_y - train_yt\n",
        "    train_y = train_y[:train_y.shape[0] - number_of_features]\n",
        "\n",
        "    train_x = train_x.reshape(train_x.shape[0], 1, train_x.shape[1])\n",
        "    return train_x, train_y\n",
        "\n",
        "def process_data(number_of_features, train_test_split_ratio, df):\n",
        "    np_arr = df.values\n",
        "    scaler = MinMaxScaler(feature_range = (0, 1))\n",
        "    scaled_np_arr = scaler.fit_transform(np_arr[:,1].reshape(-1, 1))\n",
        "    np_arr[:,1] = scaled_np_arr.flatten()\n",
        "\n",
        "    train = np_arr[:int(np_arr.shape[0]*train_test_split_ratio),:]\n",
        "    test = np_arr[int(np_arr.shape[0]*train_test_split_ratio):,:]\n",
        "\n",
        "    train_x, train_y = prepare_data(train, number_of_features)\n",
        "    test_x, test_y = prepare_data(test, number_of_features)\n",
        "\n",
        "    return (train_x, train_y, test_x, test_y, scaler)"
      ],
      "execution_count": 0,
      "outputs": []
    },
    {
      "cell_type": "code",
      "metadata": {
        "colab_type": "code",
        "id": "YjSVr5v-LvbS",
        "colab": {}
      },
      "source": [
        "class Specs:\n",
        "    def __init__(self, DenseCount = 0, LSTMCount = 0, epochs = 0, loss = np.inf):\n",
        "        self.DenseCount = DenseCount\n",
        "        self.LSTMCount = LSTMCount\n",
        "        self.loss = loss\n",
        "        self.epochs = epochs\n",
        "\n",
        "    def __str__(self):\n",
        "        return (str(self.LSTMCount) + \" \" + str(self.DenseCount) + \" \" + str(self.epochs)  + \" \" + str(self.loss))"
      ],
      "execution_count": 0,
      "outputs": []
    },
    {
      "cell_type": "code",
      "metadata": {
        "id": "mMAKs70YLXfJ",
        "colab_type": "code",
        "colab": {}
      },
      "source": [
        "def trainLSTM(specs):\n",
        "    model = Sequential()\n",
        "    model.add(LSTM(64, return_sequences = True, input_shape=(1,number_of_features)))\n",
        "    model.add(LSTM(specs.LSTMCount))\n",
        "    model.add(Dense(specs.DenseCount))\n",
        "    model.add(Dense(1))\n",
        "\n",
        "    model.compile(loss='mean_squared_error', optimizer='adam')\n",
        "    history = model.fit(train_x, train_y, epochs = specs.epochs, batch_size = 512, verbose = 0, validation_split=0.2)\n",
        "\n",
        "    return (model, history)"
      ],
      "execution_count": 0,
      "outputs": []
    },
    {
      "cell_type": "code",
      "metadata": {
        "id": "SF4Y99xSwOJs",
        "colab_type": "code",
        "colab": {}
      },
      "source": [
        "def predict(prediction_duration, data_test, scalar, number_of_features):\n",
        "  forecast_values = []\n",
        "  prev_value = data_test[-1]\n",
        "  \n",
        "  for i in range(int(prediction_duration)):\n",
        "      prediction = model.predict(data_test.reshape(1,1,number_of_features)).flatten()[0]\n",
        "      curr_pred_value = data_test[-1] + prediction\n",
        "      scaled_final_value = scalar.inverse_transform(curr_pred_value.reshape(1,-1)).flatten()[0]\n",
        "      forecast_values.append(scaled_final_value)\n",
        "      data_test = np.roll(data_test, -1)\n",
        "      data_test[-1] = curr_pred_value\n",
        "      prev_value = data_test[-1]\n",
        "\n",
        "  return forecast_values"
      ],
      "execution_count": 0,
      "outputs": []
    },
    {
      "cell_type": "code",
      "metadata": {
        "id": "rIuKOSvsLJ2l",
        "colab_type": "code",
        "colab": {}
      },
      "source": [
        "def loss_curve(history):\n",
        "    train_loss = history.history['loss']\n",
        "    val_loss = history.history['val_loss']\n",
        "\n",
        "    x_axis = range(1, len(history.history['loss'])+1)\n",
        "\n",
        "    plt.figure()\n",
        "    plt.plot(x_axis, train_loss, label=\"Training Loss\")\n",
        "\n",
        "    plt.plot(x_axis, val_loss, label=\"Validation Loss\")\n",
        "\n",
        "    plt.ylabel('Loss Value')\n",
        "    plt.xlabel('Epochs')\n",
        "    plt.title('Epochs vs Loss')\n",
        "    plt.legend()\n",
        "\n",
        "    print('Minimum Validation Loss is:' + str(min(val_loss)))\n",
        "    print('Epoch: ' + str(val_loss.index(min(val_loss)) + 1))"
      ],
      "execution_count": 0,
      "outputs": []
    },
    {
      "cell_type": "code",
      "metadata": {
        "id": "MVvABg_BLbzo",
        "colab_type": "code",
        "colab": {}
      },
      "source": [
        "def mse(actual: np.ndarray, predicted: np.ndarray):\n",
        "    \"\"\" Mean Squared Error \"\"\"\n",
        "    return np.mean(np.square(actual - predicted))"
      ],
      "execution_count": 0,
      "outputs": []
    },
    {
      "cell_type": "markdown",
      "metadata": {
        "id": "t681FHFCLvJK",
        "colab_type": "text"
      },
      "source": [
        "### Loading Saved Prometheus Data"
      ]
    },
    {
      "cell_type": "code",
      "metadata": {
        "colab_type": "code",
        "id": "vmiw94FxLwEv",
        "colab": {}
      },
      "source": [
        "data = pd.read_csv(\"/content/request_duration_seconds_count.csv\")\n",
        "number_of_features = 10\n",
        "(train_x, train_y, test_x, test_y, scaler) = process_data(number_of_features, 0.8, data)\n",
        "test_data = data.values[-test_y.shape[0]:, 1]"
      ],
      "execution_count": 0,
      "outputs": []
    },
    {
      "cell_type": "markdown",
      "metadata": {
        "id": "NxjnIjuBMScH",
        "colab_type": "text"
      },
      "source": [
        "### Building Model"
      ]
    },
    {
      "cell_type": "markdown",
      "metadata": {
        "id": "cfMLk2rXL-fl",
        "colab_type": "text"
      },
      "source": [
        "#### Tuning Hyperparameters"
      ]
    },
    {
      "cell_type": "code",
      "metadata": {
        "colab_type": "code",
        "id": "SoLpZRYkMD_6",
        "outputId": "f3c6eeab-1239-4d72-dc9b-6cd621288753",
        "colab": {
          "base_uri": "https://localhost:8080/",
          "height": 87
        }
      },
      "source": [
        "# Tuning Hyperparameters\n",
        "bestSpecs = Specs()\n",
        "for i in range(5, 8):\n",
        "    LSTMCount = 2**i\n",
        "    for j in range(5, 8):\n",
        "        DenseCount = 2**j\n",
        "\n",
        "        newSpecs = Specs(DenseCount, LSTMCount, 50)\n",
        "\n",
        "        model, history = trainLSTM(newSpecs)\n",
        "        val_loss = history.history['val_loss']\n",
        "        loss = min(val_loss)\n",
        "\n",
        "        if (loss < bestSpecs.loss):\n",
        "            bestSpecs = newSpecs\n",
        "            bestSpecs.loss = loss\n",
        "            bestSpecs.epochs = val_loss.index(min(val_loss)) + 1\n",
        "            print(\"New Results:\", bestSpecs)"
      ],
      "execution_count": 10,
      "outputs": [
        {
          "output_type": "stream",
          "text": [
            "WARNING:tensorflow:From /usr/local/lib/python3.6/dist-packages/keras/backend/tensorflow_backend.py:422: The name tf.global_variables is deprecated. Please use tf.compat.v1.global_variables instead.\n",
            "\n",
            "New Results: 32 32 42 1.9639287211387964e-10\n",
            "New Results: 32 64 21 5.1929148662303555e-11\n"
          ],
          "name": "stdout"
        }
      ]
    },
    {
      "cell_type": "markdown",
      "metadata": {
        "id": "v9987wT4MPBg",
        "colab_type": "text"
      },
      "source": [
        "#### Training Final Model"
      ]
    },
    {
      "cell_type": "code",
      "metadata": {
        "colab_type": "code",
        "id": "QyiqWPaOfc9v",
        "outputId": "60592771-8663-47d1-cb05-833768aeb952",
        "colab": {
          "base_uri": "https://localhost:8080/",
          "height": 347
        }
      },
      "source": [
        "# Train final model\n",
        "bestSpecs.epochs = 50\n",
        "print(\"Now training on\", bestSpecs)\n",
        "finalmodel, history = trainLSTM(bestSpecs)\n",
        "loss_curve(history)"
      ],
      "execution_count": 11,
      "outputs": [
        {
          "output_type": "stream",
          "text": [
            "Now training on 32 64 50 5.1929148662303555e-11\n",
            "Minimum Validation Loss is:1.249864535475683e-08\n",
            "Epoch: 10\n"
          ],
          "name": "stdout"
        },
        {
          "output_type": "display_data",
          "data": {
            "image/png": "[encoded data removed]",
            "text/plain": [
              "<Figure size 432x288 with 1 Axes>"
            ]
          },
          "metadata": {
            "tags": [],
            "needs_background": "light"
          }
        }
      ]
    },
    {
      "cell_type": "markdown",
      "metadata": {
        "id": "ay78fgl-MZUr",
        "colab_type": "text"
      },
      "source": [
        "### Testing Final Model"
      ]
    },
    {
      "cell_type": "code",
      "metadata": {
        "colab_type": "code",
        "id": "jWSarbE9MF0Q",
        "outputId": "a60cc0cd-1587-4f7c-9de2-9a1bfa0e86ce",
        "colab": {
          "base_uri": "https://localhost:8080/",
          "height": 562
        }
      },
      "source": [
        "prediction_durations = [60, 120, 180, 240, 300]\n",
        "\n",
        "forcasted_values = predict(prediction_durations[0], train_x[-1], scaler, number_of_features)\n",
        "test_y_inverse = scaler.inverse_transform(test_y.reshape(-1, 1))\n",
        "\n",
        "plt.title(\"Results after predicting for \" + str(prediction_durations[0]/60) +  \" hour(s)\")  \n",
        "plt.plot(test_data[0:prediction_durations[0]], label = 'actual')\n",
        "plt.plot(forcasted_values, label = 'pred')\n",
        "plt.legend()\n",
        "plt.show()\n",
        "print(\"MSE = \", mse(test_data[0:prediction_durations[0]], forcasted_values))\n",
        "\n",
        "\n",
        "\n",
        "MSEs = []\n",
        "for prediction_duration in prediction_durations:\n",
        "  forcasted_values = predict(prediction_duration, train_x[-1], scaler, number_of_features)\n",
        "  MSEs.append(mse(forcasted_values, test_data[0:prediction_duration]))\n",
        "\n",
        "plt.title(\"MSE vs Prediction Durations(mins)\")\n",
        "plt.plot(prediction_durations, MSEs, label = 'MSE')\n",
        "plt.show()\n"
      ],
      "execution_count": 12,
      "outputs": [
        {
          "output_type": "display_data",
          "data": {
            "image/png": "[encoded data removed]",
            "text/plain": [
              "<Figure size 432x288 with 1 Axes>"
            ]
          },
          "metadata": {
            "tags": [],
            "needs_background": "light"
          }
        },
        {
          "output_type": "stream",
          "text": [
            "MSE =  503.82673566577995\n"
          ],
          "name": "stdout"
        },
        {
          "output_type": "display_data",
          "data": {
            "image/png": "[encoded data removed]",
            "text/plain": [
              "<Figure size 432x288 with 1 Axes>"
            ]
          },
          "metadata": {
            "tags": [],
            "needs_background": "light"
          }
        }
      ]
    }
  ]
}